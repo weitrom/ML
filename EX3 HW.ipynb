{
 "cells": [
  {
   "cell_type": "code",
   "execution_count": 16,
   "metadata": {},
   "outputs": [
    {
     "name": "stdout",
     "output_type": "stream",
     "text": [
      "[1, 1, 1]\n",
      "象限為:  1\n"
     ]
    }
   ],
   "source": [
    "#EX3 HW\n",
    "coord = [3,5,1]\n",
    "coord_n=[0,0,0]\n",
    "a=coord[0]\n",
    "b=coord[1]\n",
    "c=coord[2]\n",
    "\n",
    "coord_n[0]=int((a+abs(a))/2/abs(a))\n",
    "coord_n[1]=int((b+abs(b))/2/abs(b))\n",
    "coord_n[2]=int((c+abs(c))/2/abs(c))\n",
    "print(coord_n)\n",
    "A=[7,3,8,4,6,2,5,1]\n",
    "quar=A[4*coord_n[0]+2*coord_n[1]+coord_n[2]]\n",
    "\n",
    "print('象限為: ', quar)\n",
    "\n"
   ]
  },
  {
   "cell_type": "code",
   "execution_count": null,
   "metadata": {},
   "outputs": [],
   "source": []
  }
 ],
 "metadata": {
  "kernelspec": {
   "display_name": "Python 3",
   "language": "python",
   "name": "python3"
  },
  "language_info": {
   "codemirror_mode": {
    "name": "ipython",
    "version": 3
   },
   "file_extension": ".py",
   "mimetype": "text/x-python",
   "name": "python",
   "nbconvert_exporter": "python",
   "pygments_lexer": "ipython3",
   "version": "3.7.2"
  }
 },
 "nbformat": 4,
 "nbformat_minor": 2
}
